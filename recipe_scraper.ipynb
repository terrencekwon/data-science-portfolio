{
  "nbformat": 4,
  "nbformat_minor": 0,
  "metadata": {
    "colab": {
      "name": "recipe_scraper.ipynb",
      "provenance": [],
      "authorship_tag": "ABX9TyPMSw+d4XZgYXTsFMW5jlug",
      "include_colab_link": true
    },
    "kernelspec": {
      "name": "python3",
      "display_name": "Python 3"
    }
  },
  "cells": [
    {
      "cell_type": "markdown",
      "metadata": {
        "id": "view-in-github",
        "colab_type": "text"
      },
      "source": [
        "<a href=\"https://colab.research.google.com/github/terrencekwon/data-science-portfolio/blob/master/recipe_scraper.ipynb\" target=\"_parent\"><img src=\"https://colab.research.google.com/assets/colab-badge.svg\" alt=\"Open In Colab\"/></a>"
      ]
    },
    {
      "cell_type": "code",
      "metadata": {
        "id": "RtZ4PIALqeKB",
        "colab_type": "code",
        "colab": {}
      },
      "source": [
        "import requests \n",
        "from bs4 import BeautifulSoup"
      ],
      "execution_count": 3,
      "outputs": []
    },
    {
      "cell_type": "code",
      "metadata": {
        "id": "ZJADeKq0p0TT",
        "colab_type": "code",
        "colab": {
          "base_uri": "https://localhost:8080/",
          "height": 35
        },
        "outputId": "874f8464-1954-4002-be43-7c45322a7341"
      },
      "source": [
        "page = requests.get('https://www.allrecipes.com/recipe/18444/chicken-alfredo/?internalSource=hub%20recipe&referringContentType=Search')\n",
        "soup = BeautifulSoup(page.content, 'html.parser')\n",
        "ingredients = soup.find_all('span', class_='ingredients-item-name')\n",
        "name = soup.find('h1', class_='headline heading-content')\n",
        "print(name.text.strip())"
      ],
      "execution_count": 6,
      "outputs": [
        {
          "output_type": "stream",
          "text": [
            "Chicken Alfredo\n"
          ],
          "name": "stdout"
        }
      ]
    },
    {
      "cell_type": "code",
      "metadata": {
        "id": "RcZmp8yeqz4y",
        "colab_type": "code",
        "colab": {
          "base_uri": "https://localhost:8080/",
          "height": 191
        },
        "outputId": "d84ca5f2-d8db-481a-ac6c-f34a20b8b2fb"
      },
      "source": [
        "    for ingredient in ingredients:\n",
        "        print(ingredient.text.strip())"
      ],
      "execution_count": 7,
      "outputs": [
        {
          "output_type": "stream",
          "text": [
            "6 ounces dry fettuccine pasta\n",
            "1 (8 ounce) package cream cheese\n",
            "6 tablespoons butter\n",
            "½ cup milk\n",
            "½ teaspoon garlic powder\n",
            "salt and pepper to taste\n",
            "2 1/2 breast, bone removeds skinless, boneless chicken breast halves - cooked and cubed\n",
            "2 cups chopped fresh broccoli\n",
            "2 small zucchini, julienned\n",
            "½ cup chopped red bell pepper\n"
          ],
          "name": "stdout"
        }
      ]
    }
  ]
}