{
  "nbformat": 4,
  "nbformat_minor": 0,
  "metadata": {
    "colab": {
      "name": "recipe_scraper.ipynb",
      "provenance": [],
      "collapsed_sections": [],
      "authorship_tag": "ABX9TyMjVMQSKjc7WJK7OFSh02QM",
      "include_colab_link": true
    },
    "kernelspec": {
      "name": "python3",
      "display_name": "Python 3"
    }
  },
  "cells": [
    {
      "cell_type": "markdown",
      "metadata": {
        "id": "view-in-github",
        "colab_type": "text"
      },
      "source": [
        "<a href=\"https://colab.research.google.com/github/terrencekwon/data-science-portfolio/blob/master/recipe_scraper.ipynb\" target=\"_parent\"><img src=\"https://colab.research.google.com/assets/colab-badge.svg\" alt=\"Open In Colab\"/></a>"
      ]
    },
    {
      "cell_type": "markdown",
      "metadata": {
        "id": "KIUb4_121dcj",
        "colab_type": "text"
      },
      "source": [
        "# AllRecipes.com Web Scraper "
      ]
    },
    {
      "cell_type": "markdown",
      "metadata": {
        "id": "luFsDNXS2Fi7",
        "colab_type": "text"
      },
      "source": [
        "## Creating a web scraper to get a list of ingredients. "
      ]
    },
    {
      "cell_type": "markdown",
      "metadata": {
        "id": "mMofxwkU2lKw",
        "colab_type": "text"
      },
      "source": [
        "I created this in order to save time while creating my weekly grocery lists. Instead of having to manually look up each recipe, I can just copy and paste a link and instantly know what I need to buy from the store. \n",
        "\n"
      ]
    },
    {
      "cell_type": "markdown",
      "metadata": {
        "id": "sRp5_xaO4npD",
        "colab_type": "text"
      },
      "source": [
        "**Libraries used:**\n",
        "\n",
        "*   requests\n",
        "*   BeautifulSoup\n",
        "\n",
        "Importing the required libraries:"
      ]
    },
    {
      "cell_type": "code",
      "metadata": {
        "id": "RtZ4PIALqeKB",
        "colab_type": "code",
        "colab": {}
      },
      "source": [
        "import requests \n",
        "from bs4 import BeautifulSoup"
      ],
      "execution_count": 2,
      "outputs": []
    },
    {
      "cell_type": "markdown",
      "metadata": {
        "id": "-_4qJru56Auu",
        "colab_type": "text"
      },
      "source": [
        "First, using requests, I retrieve the HTML data that the server sends back and save it in a variable called *page*. "
      ]
    },
    {
      "cell_type": "code",
      "metadata": {
        "id": "ZJADeKq0p0TT",
        "colab_type": "code",
        "colab": {}
      },
      "source": [
        "page = requests.get('https://www.allrecipes.com/recipe/18444/chicken-alfredo/?internalSource=hub%20recipe&referringContentType=Search')"
      ],
      "execution_count": 3,
      "outputs": []
    },
    {
      "cell_type": "markdown",
      "metadata": {
        "id": "epwiACmB7AyO",
        "colab_type": "text"
      },
      "source": [
        "Now I can use Beautiful Soup to parse through the HTML that we saved. Before I ran this code I inspected the HTML code of the AllRecipes.com website and found that the ingredients that I am looking for are all stored in span elements with the name ingredients-item-name. So I made Beautiful Soup find and store those specific chunks of HTML code. "
      ]
    },
    {
      "cell_type": "code",
      "metadata": {
        "id": "-mxqeV5v7BVM",
        "colab_type": "code",
        "colab": {
          "base_uri": "https://localhost:8080/",
          "height": 35
        },
        "outputId": "8686f750-1fe6-4da7-c2ce-19bc030894ba"
      },
      "source": [
        "soup = BeautifulSoup(page.content, 'html.parser')\n",
        "ingredients = soup.find_all('span', class_='ingredients-item-name')\n",
        "name = soup.find('h1', class_='headline heading-content')\n",
        "print(name.text.strip())"
      ],
      "execution_count": 4,
      "outputs": [
        {
          "output_type": "stream",
          "text": [
            "Chicken Alfredo\n"
          ],
          "name": "stdout"
        }
      ]
    },
    {
      "cell_type": "code",
      "metadata": {
        "id": "RcZmp8yeqz4y",
        "colab_type": "code",
        "colab": {
          "base_uri": "https://localhost:8080/",
          "height": 191
        },
        "outputId": "3c25e1b0-08d7-4fa1-f8ce-787ebb8221e9"
      },
      "source": [
        "for ingredient in ingredients:\n",
        "      print(ingredient.text.strip())"
      ],
      "execution_count": 5,
      "outputs": [
        {
          "output_type": "stream",
          "text": [
            "6 ounces dry fettuccine pasta\n",
            "1 (8 ounce) package cream cheese\n",
            "6 tablespoons butter\n",
            "½ cup milk\n",
            "½ teaspoon garlic powder\n",
            "salt and pepper to taste\n",
            "2 1/2 breast, bone removeds skinless, boneless chicken breast halves - cooked and cubed\n",
            "2 cups chopped fresh broccoli\n",
            "2 small zucchini, julienned\n",
            "½ cup chopped red bell pepper\n"
          ],
          "name": "stdout"
        }
      ]
    }
  ]
}