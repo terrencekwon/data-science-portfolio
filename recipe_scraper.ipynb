{
  "nbformat": 4,
  "nbformat_minor": 0,
  "metadata": {
    "colab": {
      "name": "recipe_scraper.ipynb",
      "provenance": [],
      "collapsed_sections": [],
      "authorship_tag": "ABX9TyMdRhOD1R1xsTslvwByECFP",
      "include_colab_link": true
    },
    "kernelspec": {
      "name": "python3",
      "display_name": "Python 3"
    }
  },
  "cells": [
    {
      "cell_type": "markdown",
      "metadata": {
        "id": "view-in-github",
        "colab_type": "text"
      },
      "source": [
        "<a href=\"https://colab.research.google.com/github/terrencekwon/data-science-portfolio/blob/master/recipe_scraper.ipynb\" target=\"_parent\"><img src=\"https://colab.research.google.com/assets/colab-badge.svg\" alt=\"Open In Colab\"/></a>"
      ]
    },
    {
      "cell_type": "markdown",
      "metadata": {
        "id": "KIUb4_121dcj",
        "colab_type": "text"
      },
      "source": [
        "# AllRecipes.com Web Scraper "
      ]
    },
    {
      "cell_type": "markdown",
      "metadata": {
        "id": "luFsDNXS2Fi7",
        "colab_type": "text"
      },
      "source": [
        "## Creating a web scraper to get a list of ingredients. "
      ]
    },
    {
      "cell_type": "markdown",
      "metadata": {
        "id": "mMofxwkU2lKw",
        "colab_type": "text"
      },
      "source": [
        "I created this in order to save time while creating my weekly grocery lists. Instead of having to manually look up each recipe, I can just copy and paste a link and instantly know what I need to buy from the store. \n",
        "\n"
      ]
    },
    {
      "cell_type": "markdown",
      "metadata": {
        "id": "sRp5_xaO4npD",
        "colab_type": "text"
      },
      "source": [
        "**Packages used:**\n",
        "\n",
        "*   requests\n",
        "*   BeautifulSoup\n",
        "\n"
      ]
    },
    {
      "cell_type": "code",
      "metadata": {
        "id": "RtZ4PIALqeKB",
        "colab_type": "code",
        "colab": {}
      },
      "source": [
        "import requests \n",
        "from bs4 import BeautifulSoup"
      ],
      "execution_count": null,
      "outputs": []
    },
    {
      "cell_type": "code",
      "metadata": {
        "id": "ZJADeKq0p0TT",
        "colab_type": "code",
        "colab": {
          "base_uri": "https://localhost:8080/",
          "height": 35
        },
        "outputId": "874f8464-1954-4002-be43-7c45322a7341"
      },
      "source": [
        "page = requests.get('https://www.allrecipes.com/recipe/18444/chicken-alfredo/?internalSource=hub%20recipe&referringContentType=Search')\n",
        "soup = BeautifulSoup(page.content, 'html.parser')\n",
        "ingredients = soup.find_all('span', class_='ingredients-item-name')\n",
        "name = soup.find('h1', class_='headline heading-content')\n",
        "print(name.text.strip())"
      ],
      "execution_count": null,
      "outputs": [
        {
          "output_type": "stream",
          "text": [
            "Chicken Alfredo\n"
          ],
          "name": "stdout"
        }
      ]
    },
    {
      "cell_type": "code",
      "metadata": {
        "id": "RcZmp8yeqz4y",
        "colab_type": "code",
        "colab": {
          "base_uri": "https://localhost:8080/",
          "height": 191
        },
        "outputId": "d84ca5f2-d8db-481a-ac6c-f34a20b8b2fb"
      },
      "source": [
        "    for ingredient in ingredients:\n",
        "        print(ingredient.text.strip())"
      ],
      "execution_count": null,
      "outputs": [
        {
          "output_type": "stream",
          "text": [
            "6 ounces dry fettuccine pasta\n",
            "1 (8 ounce) package cream cheese\n",
            "6 tablespoons butter\n",
            "½ cup milk\n",
            "½ teaspoon garlic powder\n",
            "salt and pepper to taste\n",
            "2 1/2 breast, bone removeds skinless, boneless chicken breast halves - cooked and cubed\n",
            "2 cups chopped fresh broccoli\n",
            "2 small zucchini, julienned\n",
            "½ cup chopped red bell pepper\n"
          ],
          "name": "stdout"
        }
      ]
    }
  ]
}